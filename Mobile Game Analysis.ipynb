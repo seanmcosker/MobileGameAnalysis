{
 "cells": [
  {
   "cell_type": "code",
   "execution_count": 57,
   "id": "fcad8b0f",
   "metadata": {},
   "outputs": [],
   "source": [
    "#manage packages\n",
    "\n",
    "import pandas as pd\n",
    "import numpy as np\n",
    "import sklearn\n",
    "import seaborn as sns\n",
    "import matplotlib.pyplot as plt\n",
    "%matplotlib inline\n",
    "\n",
    "from mpl_toolkits.mplot3d import Axes3D\n",
    "from sklearn.preprocessing import StandardScaler"
   ]
  },
  {
   "cell_type": "markdown",
   "id": "19284872",
   "metadata": {},
   "source": [
    "# Read in data"
   ]
  },
  {
   "cell_type": "markdown",
   "id": "b6903206",
   "metadata": {},
   "source": [
    "This data was downloaded from Kaggle. \n",
    "\n",
    "Link: https://www.kaggle.com/datasets/tristan581/17k-apple-app-store-strategy-games/code"
   ]
  },
  {
   "cell_type": "code",
   "execution_count": 21,
   "id": "a64ae42b",
   "metadata": {},
   "outputs": [],
   "source": [
    "apps = pd.read_csv(\"appstore_games.csv\")"
   ]
  },
  {
   "cell_type": "code",
   "execution_count": 22,
   "id": "ac9687d9",
   "metadata": {},
   "outputs": [
    {
     "data": {
      "text/html": [
       "<div>\n",
       "<style scoped>\n",
       "    .dataframe tbody tr th:only-of-type {\n",
       "        vertical-align: middle;\n",
       "    }\n",
       "\n",
       "    .dataframe tbody tr th {\n",
       "        vertical-align: top;\n",
       "    }\n",
       "\n",
       "    .dataframe thead th {\n",
       "        text-align: right;\n",
       "    }\n",
       "</style>\n",
       "<table border=\"1\" class=\"dataframe\">\n",
       "  <thead>\n",
       "    <tr style=\"text-align: right;\">\n",
       "      <th></th>\n",
       "      <th>URL</th>\n",
       "      <th>ID</th>\n",
       "      <th>Name</th>\n",
       "      <th>Subtitle</th>\n",
       "      <th>Icon URL</th>\n",
       "      <th>Average User Rating</th>\n",
       "      <th>User Rating Count</th>\n",
       "      <th>Price</th>\n",
       "      <th>In-app Purchases</th>\n",
       "      <th>Description</th>\n",
       "      <th>Developer</th>\n",
       "      <th>Age Rating</th>\n",
       "      <th>Languages</th>\n",
       "      <th>Size</th>\n",
       "      <th>Primary Genre</th>\n",
       "      <th>Genres</th>\n",
       "      <th>Original Release Date</th>\n",
       "      <th>Current Version Release Date</th>\n",
       "    </tr>\n",
       "  </thead>\n",
       "  <tbody>\n",
       "    <tr>\n",
       "      <th>0</th>\n",
       "      <td>https://apps.apple.com/us/app/sudoku/id284921427</td>\n",
       "      <td>284921427</td>\n",
       "      <td>Sudoku</td>\n",
       "      <td>NaN</td>\n",
       "      <td>https://is2-ssl.mzstatic.com/image/thumb/Purpl...</td>\n",
       "      <td>4.0</td>\n",
       "      <td>3553.0</td>\n",
       "      <td>2.99</td>\n",
       "      <td>NaN</td>\n",
       "      <td>Join over 21,000,000 of our fans and download ...</td>\n",
       "      <td>Mighty Mighty Good Games</td>\n",
       "      <td>4+</td>\n",
       "      <td>DA, NL, EN, FI, FR, DE, IT, JA, KO, NB, PL, PT...</td>\n",
       "      <td>15853568.0</td>\n",
       "      <td>Games</td>\n",
       "      <td>Games, Strategy, Puzzle</td>\n",
       "      <td>11/07/2008</td>\n",
       "      <td>30/05/2017</td>\n",
       "    </tr>\n",
       "    <tr>\n",
       "      <th>1</th>\n",
       "      <td>https://apps.apple.com/us/app/reversi/id284926400</td>\n",
       "      <td>284926400</td>\n",
       "      <td>Reversi</td>\n",
       "      <td>NaN</td>\n",
       "      <td>https://is4-ssl.mzstatic.com/image/thumb/Purpl...</td>\n",
       "      <td>3.5</td>\n",
       "      <td>284.0</td>\n",
       "      <td>1.99</td>\n",
       "      <td>NaN</td>\n",
       "      <td>The classic game of Reversi, also known as Oth...</td>\n",
       "      <td>Kiss The Machine</td>\n",
       "      <td>4+</td>\n",
       "      <td>EN</td>\n",
       "      <td>12328960.0</td>\n",
       "      <td>Games</td>\n",
       "      <td>Games, Strategy, Board</td>\n",
       "      <td>11/07/2008</td>\n",
       "      <td>17/05/2018</td>\n",
       "    </tr>\n",
       "    <tr>\n",
       "      <th>2</th>\n",
       "      <td>https://apps.apple.com/us/app/morocco/id284946595</td>\n",
       "      <td>284946595</td>\n",
       "      <td>Morocco</td>\n",
       "      <td>NaN</td>\n",
       "      <td>https://is5-ssl.mzstatic.com/image/thumb/Purpl...</td>\n",
       "      <td>3.0</td>\n",
       "      <td>8376.0</td>\n",
       "      <td>0.00</td>\n",
       "      <td>NaN</td>\n",
       "      <td>Play the classic strategy game Othello (also k...</td>\n",
       "      <td>Bayou Games</td>\n",
       "      <td>4+</td>\n",
       "      <td>EN</td>\n",
       "      <td>674816.0</td>\n",
       "      <td>Games</td>\n",
       "      <td>Games, Board, Strategy</td>\n",
       "      <td>11/07/2008</td>\n",
       "      <td>5/09/2017</td>\n",
       "    </tr>\n",
       "    <tr>\n",
       "      <th>3</th>\n",
       "      <td>https://apps.apple.com/us/app/sudoku-free/id28...</td>\n",
       "      <td>285755462</td>\n",
       "      <td>Sudoku (Free)</td>\n",
       "      <td>NaN</td>\n",
       "      <td>https://is3-ssl.mzstatic.com/image/thumb/Purpl...</td>\n",
       "      <td>3.5</td>\n",
       "      <td>190394.0</td>\n",
       "      <td>0.00</td>\n",
       "      <td>NaN</td>\n",
       "      <td>Top 100 free app for over a year.\\nRated \"Best...</td>\n",
       "      <td>Mighty Mighty Good Games</td>\n",
       "      <td>4+</td>\n",
       "      <td>DA, NL, EN, FI, FR, DE, IT, JA, KO, NB, PL, PT...</td>\n",
       "      <td>21552128.0</td>\n",
       "      <td>Games</td>\n",
       "      <td>Games, Strategy, Puzzle</td>\n",
       "      <td>23/07/2008</td>\n",
       "      <td>30/05/2017</td>\n",
       "    </tr>\n",
       "    <tr>\n",
       "      <th>4</th>\n",
       "      <td>https://apps.apple.com/us/app/senet-deluxe/id2...</td>\n",
       "      <td>285831220</td>\n",
       "      <td>Senet Deluxe</td>\n",
       "      <td>NaN</td>\n",
       "      <td>https://is1-ssl.mzstatic.com/image/thumb/Purpl...</td>\n",
       "      <td>3.5</td>\n",
       "      <td>28.0</td>\n",
       "      <td>2.99</td>\n",
       "      <td>NaN</td>\n",
       "      <td>\"Senet Deluxe - The Ancient Game of Life and A...</td>\n",
       "      <td>RoGame Software</td>\n",
       "      <td>4+</td>\n",
       "      <td>DA, NL, EN, FR, DE, EL, IT, JA, KO, NO, PT, RU...</td>\n",
       "      <td>34689024.0</td>\n",
       "      <td>Games</td>\n",
       "      <td>Games, Strategy, Board, Education</td>\n",
       "      <td>18/07/2008</td>\n",
       "      <td>22/07/2018</td>\n",
       "    </tr>\n",
       "  </tbody>\n",
       "</table>\n",
       "</div>"
      ],
      "text/plain": [
       "                                                 URL         ID  \\\n",
       "0   https://apps.apple.com/us/app/sudoku/id284921427  284921427   \n",
       "1  https://apps.apple.com/us/app/reversi/id284926400  284926400   \n",
       "2  https://apps.apple.com/us/app/morocco/id284946595  284946595   \n",
       "3  https://apps.apple.com/us/app/sudoku-free/id28...  285755462   \n",
       "4  https://apps.apple.com/us/app/senet-deluxe/id2...  285831220   \n",
       "\n",
       "            Name Subtitle                                           Icon URL  \\\n",
       "0         Sudoku      NaN  https://is2-ssl.mzstatic.com/image/thumb/Purpl...   \n",
       "1        Reversi      NaN  https://is4-ssl.mzstatic.com/image/thumb/Purpl...   \n",
       "2        Morocco      NaN  https://is5-ssl.mzstatic.com/image/thumb/Purpl...   \n",
       "3  Sudoku (Free)      NaN  https://is3-ssl.mzstatic.com/image/thumb/Purpl...   \n",
       "4   Senet Deluxe      NaN  https://is1-ssl.mzstatic.com/image/thumb/Purpl...   \n",
       "\n",
       "   Average User Rating  User Rating Count  Price In-app Purchases  \\\n",
       "0                  4.0             3553.0   2.99              NaN   \n",
       "1                  3.5              284.0   1.99              NaN   \n",
       "2                  3.0             8376.0   0.00              NaN   \n",
       "3                  3.5           190394.0   0.00              NaN   \n",
       "4                  3.5               28.0   2.99              NaN   \n",
       "\n",
       "                                         Description  \\\n",
       "0  Join over 21,000,000 of our fans and download ...   \n",
       "1  The classic game of Reversi, also known as Oth...   \n",
       "2  Play the classic strategy game Othello (also k...   \n",
       "3  Top 100 free app for over a year.\\nRated \"Best...   \n",
       "4  \"Senet Deluxe - The Ancient Game of Life and A...   \n",
       "\n",
       "                  Developer Age Rating  \\\n",
       "0  Mighty Mighty Good Games         4+   \n",
       "1          Kiss The Machine         4+   \n",
       "2               Bayou Games         4+   \n",
       "3  Mighty Mighty Good Games         4+   \n",
       "4           RoGame Software         4+   \n",
       "\n",
       "                                           Languages        Size  \\\n",
       "0  DA, NL, EN, FI, FR, DE, IT, JA, KO, NB, PL, PT...  15853568.0   \n",
       "1                                                 EN  12328960.0   \n",
       "2                                                 EN    674816.0   \n",
       "3  DA, NL, EN, FI, FR, DE, IT, JA, KO, NB, PL, PT...  21552128.0   \n",
       "4  DA, NL, EN, FR, DE, EL, IT, JA, KO, NO, PT, RU...  34689024.0   \n",
       "\n",
       "  Primary Genre                             Genres Original Release Date  \\\n",
       "0         Games            Games, Strategy, Puzzle            11/07/2008   \n",
       "1         Games             Games, Strategy, Board            11/07/2008   \n",
       "2         Games             Games, Board, Strategy            11/07/2008   \n",
       "3         Games            Games, Strategy, Puzzle            23/07/2008   \n",
       "4         Games  Games, Strategy, Board, Education            18/07/2008   \n",
       "\n",
       "  Current Version Release Date  \n",
       "0                   30/05/2017  \n",
       "1                   17/05/2018  \n",
       "2                    5/09/2017  \n",
       "3                   30/05/2017  \n",
       "4                   22/07/2018  "
      ]
     },
     "execution_count": 22,
     "metadata": {},
     "output_type": "execute_result"
    }
   ],
   "source": [
    "apps.head()"
   ]
  },
  {
   "cell_type": "markdown",
   "id": "4e84bcf3",
   "metadata": {},
   "source": [
    "# Data Cleaning"
   ]
  },
  {
   "cell_type": "code",
   "execution_count": 23,
   "id": "7431f484",
   "metadata": {},
   "outputs": [
    {
     "data": {
      "text/html": [
       "<div>\n",
       "<style scoped>\n",
       "    .dataframe tbody tr th:only-of-type {\n",
       "        vertical-align: middle;\n",
       "    }\n",
       "\n",
       "    .dataframe tbody tr th {\n",
       "        vertical-align: top;\n",
       "    }\n",
       "\n",
       "    .dataframe thead th {\n",
       "        text-align: right;\n",
       "    }\n",
       "</style>\n",
       "<table border=\"1\" class=\"dataframe\">\n",
       "  <thead>\n",
       "    <tr style=\"text-align: right;\">\n",
       "      <th></th>\n",
       "      <th>URL</th>\n",
       "      <th>ID</th>\n",
       "      <th>Name</th>\n",
       "      <th>Subtitle</th>\n",
       "      <th>icon</th>\n",
       "      <th>ave_rating</th>\n",
       "      <th>rating_count</th>\n",
       "      <th>Price</th>\n",
       "      <th>In-app Purchases</th>\n",
       "      <th>Description</th>\n",
       "      <th>Developer</th>\n",
       "      <th>Age Rating</th>\n",
       "      <th>Languages</th>\n",
       "      <th>Size</th>\n",
       "      <th>Primary Genre</th>\n",
       "      <th>Genres</th>\n",
       "      <th>Original Release Date</th>\n",
       "      <th>Current Version Release Date</th>\n",
       "    </tr>\n",
       "  </thead>\n",
       "  <tbody>\n",
       "    <tr>\n",
       "      <th>0</th>\n",
       "      <td>https://apps.apple.com/us/app/sudoku/id284921427</td>\n",
       "      <td>284921427</td>\n",
       "      <td>Sudoku</td>\n",
       "      <td>NaN</td>\n",
       "      <td>https://is2-ssl.mzstatic.com/image/thumb/Purpl...</td>\n",
       "      <td>4.0</td>\n",
       "      <td>3553.0</td>\n",
       "      <td>2.99</td>\n",
       "      <td>NaN</td>\n",
       "      <td>Join over 21,000,000 of our fans and download ...</td>\n",
       "      <td>Mighty Mighty Good Games</td>\n",
       "      <td>4+</td>\n",
       "      <td>DA, NL, EN, FI, FR, DE, IT, JA, KO, NB, PL, PT...</td>\n",
       "      <td>15853568.0</td>\n",
       "      <td>Games</td>\n",
       "      <td>Games, Strategy, Puzzle</td>\n",
       "      <td>11/07/2008</td>\n",
       "      <td>30/05/2017</td>\n",
       "    </tr>\n",
       "    <tr>\n",
       "      <th>1</th>\n",
       "      <td>https://apps.apple.com/us/app/reversi/id284926400</td>\n",
       "      <td>284926400</td>\n",
       "      <td>Reversi</td>\n",
       "      <td>NaN</td>\n",
       "      <td>https://is4-ssl.mzstatic.com/image/thumb/Purpl...</td>\n",
       "      <td>3.5</td>\n",
       "      <td>284.0</td>\n",
       "      <td>1.99</td>\n",
       "      <td>NaN</td>\n",
       "      <td>The classic game of Reversi, also known as Oth...</td>\n",
       "      <td>Kiss The Machine</td>\n",
       "      <td>4+</td>\n",
       "      <td>EN</td>\n",
       "      <td>12328960.0</td>\n",
       "      <td>Games</td>\n",
       "      <td>Games, Strategy, Board</td>\n",
       "      <td>11/07/2008</td>\n",
       "      <td>17/05/2018</td>\n",
       "    </tr>\n",
       "    <tr>\n",
       "      <th>2</th>\n",
       "      <td>https://apps.apple.com/us/app/morocco/id284946595</td>\n",
       "      <td>284946595</td>\n",
       "      <td>Morocco</td>\n",
       "      <td>NaN</td>\n",
       "      <td>https://is5-ssl.mzstatic.com/image/thumb/Purpl...</td>\n",
       "      <td>3.0</td>\n",
       "      <td>8376.0</td>\n",
       "      <td>0.00</td>\n",
       "      <td>NaN</td>\n",
       "      <td>Play the classic strategy game Othello (also k...</td>\n",
       "      <td>Bayou Games</td>\n",
       "      <td>4+</td>\n",
       "      <td>EN</td>\n",
       "      <td>674816.0</td>\n",
       "      <td>Games</td>\n",
       "      <td>Games, Board, Strategy</td>\n",
       "      <td>11/07/2008</td>\n",
       "      <td>5/09/2017</td>\n",
       "    </tr>\n",
       "    <tr>\n",
       "      <th>3</th>\n",
       "      <td>https://apps.apple.com/us/app/sudoku-free/id28...</td>\n",
       "      <td>285755462</td>\n",
       "      <td>Sudoku (Free)</td>\n",
       "      <td>NaN</td>\n",
       "      <td>https://is3-ssl.mzstatic.com/image/thumb/Purpl...</td>\n",
       "      <td>3.5</td>\n",
       "      <td>190394.0</td>\n",
       "      <td>0.00</td>\n",
       "      <td>NaN</td>\n",
       "      <td>Top 100 free app for over a year.\\nRated \"Best...</td>\n",
       "      <td>Mighty Mighty Good Games</td>\n",
       "      <td>4+</td>\n",
       "      <td>DA, NL, EN, FI, FR, DE, IT, JA, KO, NB, PL, PT...</td>\n",
       "      <td>21552128.0</td>\n",
       "      <td>Games</td>\n",
       "      <td>Games, Strategy, Puzzle</td>\n",
       "      <td>23/07/2008</td>\n",
       "      <td>30/05/2017</td>\n",
       "    </tr>\n",
       "    <tr>\n",
       "      <th>4</th>\n",
       "      <td>https://apps.apple.com/us/app/senet-deluxe/id2...</td>\n",
       "      <td>285831220</td>\n",
       "      <td>Senet Deluxe</td>\n",
       "      <td>NaN</td>\n",
       "      <td>https://is1-ssl.mzstatic.com/image/thumb/Purpl...</td>\n",
       "      <td>3.5</td>\n",
       "      <td>28.0</td>\n",
       "      <td>2.99</td>\n",
       "      <td>NaN</td>\n",
       "      <td>\"Senet Deluxe - The Ancient Game of Life and A...</td>\n",
       "      <td>RoGame Software</td>\n",
       "      <td>4+</td>\n",
       "      <td>DA, NL, EN, FR, DE, EL, IT, JA, KO, NO, PT, RU...</td>\n",
       "      <td>34689024.0</td>\n",
       "      <td>Games</td>\n",
       "      <td>Games, Strategy, Board, Education</td>\n",
       "      <td>18/07/2008</td>\n",
       "      <td>22/07/2018</td>\n",
       "    </tr>\n",
       "  </tbody>\n",
       "</table>\n",
       "</div>"
      ],
      "text/plain": [
       "                                                 URL         ID  \\\n",
       "0   https://apps.apple.com/us/app/sudoku/id284921427  284921427   \n",
       "1  https://apps.apple.com/us/app/reversi/id284926400  284926400   \n",
       "2  https://apps.apple.com/us/app/morocco/id284946595  284946595   \n",
       "3  https://apps.apple.com/us/app/sudoku-free/id28...  285755462   \n",
       "4  https://apps.apple.com/us/app/senet-deluxe/id2...  285831220   \n",
       "\n",
       "            Name Subtitle                                               icon  \\\n",
       "0         Sudoku      NaN  https://is2-ssl.mzstatic.com/image/thumb/Purpl...   \n",
       "1        Reversi      NaN  https://is4-ssl.mzstatic.com/image/thumb/Purpl...   \n",
       "2        Morocco      NaN  https://is5-ssl.mzstatic.com/image/thumb/Purpl...   \n",
       "3  Sudoku (Free)      NaN  https://is3-ssl.mzstatic.com/image/thumb/Purpl...   \n",
       "4   Senet Deluxe      NaN  https://is1-ssl.mzstatic.com/image/thumb/Purpl...   \n",
       "\n",
       "   ave_rating  rating_count  Price In-app Purchases  \\\n",
       "0         4.0        3553.0   2.99              NaN   \n",
       "1         3.5         284.0   1.99              NaN   \n",
       "2         3.0        8376.0   0.00              NaN   \n",
       "3         3.5      190394.0   0.00              NaN   \n",
       "4         3.5          28.0   2.99              NaN   \n",
       "\n",
       "                                         Description  \\\n",
       "0  Join over 21,000,000 of our fans and download ...   \n",
       "1  The classic game of Reversi, also known as Oth...   \n",
       "2  Play the classic strategy game Othello (also k...   \n",
       "3  Top 100 free app for over a year.\\nRated \"Best...   \n",
       "4  \"Senet Deluxe - The Ancient Game of Life and A...   \n",
       "\n",
       "                  Developer Age Rating  \\\n",
       "0  Mighty Mighty Good Games         4+   \n",
       "1          Kiss The Machine         4+   \n",
       "2               Bayou Games         4+   \n",
       "3  Mighty Mighty Good Games         4+   \n",
       "4           RoGame Software         4+   \n",
       "\n",
       "                                           Languages        Size  \\\n",
       "0  DA, NL, EN, FI, FR, DE, IT, JA, KO, NB, PL, PT...  15853568.0   \n",
       "1                                                 EN  12328960.0   \n",
       "2                                                 EN    674816.0   \n",
       "3  DA, NL, EN, FI, FR, DE, IT, JA, KO, NB, PL, PT...  21552128.0   \n",
       "4  DA, NL, EN, FR, DE, EL, IT, JA, KO, NO, PT, RU...  34689024.0   \n",
       "\n",
       "  Primary Genre                             Genres Original Release Date  \\\n",
       "0         Games            Games, Strategy, Puzzle            11/07/2008   \n",
       "1         Games             Games, Strategy, Board            11/07/2008   \n",
       "2         Games             Games, Board, Strategy            11/07/2008   \n",
       "3         Games            Games, Strategy, Puzzle            23/07/2008   \n",
       "4         Games  Games, Strategy, Board, Education            18/07/2008   \n",
       "\n",
       "  Current Version Release Date  \n",
       "0                   30/05/2017  \n",
       "1                   17/05/2018  \n",
       "2                    5/09/2017  \n",
       "3                   30/05/2017  \n",
       "4                   22/07/2018  "
      ]
     },
     "execution_count": 23,
     "metadata": {},
     "output_type": "execute_result"
    }
   ],
   "source": [
    "#let's rename some of these columns just for ease of access\n",
    "\n",
    "apps.rename(columns = {\"Icon URL\": \"icon\", \"Average User Rating\": \"ave_rating\", \"User Rating Count\": \"rating_count\"}, inplace=True)\n",
    "\n",
    "apps.head()"
   ]
  },
  {
   "cell_type": "markdown",
   "id": "89b1897d",
   "metadata": {},
   "source": [
    "# Initial Graphs + EDA"
   ]
  },
  {
   "cell_type": "code",
   "execution_count": 58,
   "id": "18391d0b",
   "metadata": {},
   "outputs": [],
   "source": [
    "def ColumnDistribution(df, nGraphShown, nGraphPerRow): \n",
    "    nunique = df.nunique()\n",
    "    df = df[[col for col in df if nunique[col] > 1 and nunique[col] < 50]] # For displaying purposes, pick columns that have between 1 and 50 unique values\n",
    "    nRow, nCol = df.shape\n",
    "    columnNames = list(df)\n",
    "    nGraphRow = (nCol + nGraphPerRow - 1) / nGraphPerRow\n",
    "    plt.figure(num = None, figsize = (6 * nGraphPerRow, 8 * nGraphRow), dpi = 80, facecolor = 'w', edgecolor = 'k')\n",
    "    for i in range(min(nCol, nGraphShown)):\n",
    "        plt.subplot(nGraphRow, nGraphPerRow, i + 1)\n",
    "        columnDf = df.iloc[:, i]\n",
    "        if (not np.issubdtype(type(columnDf.iloc[0]), np.number)):\n",
    "            valueCounts = columnDf.value_counts()\n",
    "            valueCounts.plot.bar()\n",
    "        else:\n",
    "            columnDf.hist()\n",
    "        plt.ylabel('counts')\n",
    "        plt.xticks(rotation = 90)\n",
    "        plt.title(f'{columnNames[i]} (column {i})')\n",
    "    plt.tight_layout(pad = 1.0, w_pad = 1.0, h_pad = 1.0)\n",
    "    plt.show()"
   ]
  },
  {
   "cell_type": "code",
   "execution_count": 59,
   "id": "914ca114",
   "metadata": {},
   "outputs": [
    {
     "name": "stderr",
     "output_type": "stream",
     "text": [
      "/var/folders/yj/znfgbkgj4f1gvy__jfl3rw6c0000gn/T/ipykernel_2156/563842931.py:9: MatplotlibDeprecationWarning: Passing non-integers as three-element position specification is deprecated since 3.3 and will be removed two minor releases later.\n",
      "  plt.subplot(nGraphRow, nGraphPerRow, i + 1)\n",
      "/var/folders/yj/znfgbkgj4f1gvy__jfl3rw6c0000gn/T/ipykernel_2156/563842931.py:9: MatplotlibDeprecationWarning: Passing non-integers as three-element position specification is deprecated since 3.3 and will be removed two minor releases later.\n",
      "  plt.subplot(nGraphRow, nGraphPerRow, i + 1)\n"
     ]
    },
    {
     "data": {
      "image/png": "[encoded data removed]",
      "text/plain": [
       "<Figure size 2400x1024 with 4 Axes>"
      ]
     },
     "metadata": {},
     "output_type": "display_data"
    }
   ],
   "source": [
    "ColumnDistribution(apps, 10, 5)"
   ]
  },
  {
   "cell_type": "code",
   "execution_count": null,
   "id": "805e30fb",
   "metadata": {},
   "outputs": [
    {
     "data": {
      "text/plain": [
       "<seaborn.axisgrid.PairGrid at 0x7fadaa2f9bb0>"
      ]
     },
     "execution_count": 60,
     "metadata": {},
     "output_type": "execute_result"
    }
   ],
   "source": [
    "sns.pairplot(apps)"
   ]
  },
  {
   "cell_type": "code",
   "execution_count": 29,
   "id": "44fac9bc",
   "metadata": {},
   "outputs": [
    {
     "data": {
      "text/plain": [
       "<matplotlib.collections.PathCollection at 0x7fad9819a970>"
      ]
     },
     "execution_count": 29,
     "metadata": {},
     "output_type": "execute_result"
    },
    {
     "data": {
      "image/png": "[encoded data removed]",
      "text/plain": [
       "<Figure size 432x288 with 1 Axes>"
      ]
     },
     "metadata": {
      "needs_background": "light"
     },
     "output_type": "display_data"
    }
   ],
   "source": [
    "plt.scatter(apps[\"ave_rating\"], apps[\"Price\"])"
   ]
  },
  {
   "cell_type": "markdown",
   "id": "86aa1de5",
   "metadata": {},
   "source": [
    "It looks like there are some quite odd outliers in the price category... let's examine that a bit further."
   ]
  },
  {
   "cell_type": "code",
   "execution_count": 46,
   "id": "29649712",
   "metadata": {},
   "outputs": [
    {
     "name": "stdout",
     "output_type": "stream",
     "text": [
      "[  0.     0.99   1.99   2.99   3.99   4.99   5.99   6.99   7.99   8.99\n",
      "   9.99  11.99  12.99  14.99  16.99  18.99  19.99  29.99  36.99  37.99\n",
      "  59.99  99.99 139.99 179.99    nan    nan    nan    nan    nan    nan\n",
      "    nan    nan    nan    nan    nan    nan    nan    nan    nan    nan\n",
      "    nan    nan    nan    nan    nan    nan    nan    nan]\n"
     ]
    }
   ],
   "source": [
    "print(np.unique(apps[\"Price\"]))\n",
    "\n",
    "apps[\"Price\"].isna().sum()/len(apps)\n",
    "\n",
    "#only about a 0.1% missing rate for price. Let's remove these NAs\n",
    "\n",
    "apps=apps.dropna(subset=[\"Price\"])\n"
   ]
  },
  {
   "cell_type": "code",
   "execution_count": 47,
   "id": "80d98873",
   "metadata": {},
   "outputs": [
    {
     "data": {
      "text/plain": [
       "0.0"
      ]
     },
     "execution_count": 47,
     "metadata": {},
     "output_type": "execute_result"
    }
   ],
   "source": [
    "apps[\"Price\"].isna().sum()/len(apps)\n",
    "\n",
    "#this worked\n"
   ]
  },
  {
   "cell_type": "code",
   "execution_count": 49,
   "id": "818c53ce",
   "metadata": {},
   "outputs": [
    {
     "data": {
      "image/png": "[encoded data removed]",
      "text/plain": [
       "<Figure size 432x288 with 1 Axes>"
      ]
     },
     "metadata": {
      "needs_background": "light"
     },
     "output_type": "display_data"
    }
   ],
   "source": [
    "plt.boxplot(apps[\"Price\"])\n",
    "plt.show()\n",
    "\n",
    "#very heavy skew. Let's consider removing these outliers for the sake of a nicer scatterplot. "
   ]
  },
  {
   "cell_type": "code",
   "execution_count": 50,
   "id": "87d27e0c",
   "metadata": {},
   "outputs": [
    {
     "data": {
      "text/plain": [
       "0.00      14212\n",
       "0.99       1078\n",
       "1.99        515\n",
       "2.99        471\n",
       "4.99        237\n",
       "3.99        163\n",
       "9.99         88\n",
       "11.99        59\n",
       "5.99         42\n",
       "6.99         32\n",
       "179.99       30\n",
       "7.99         17\n",
       "8.99         13\n",
       "19.99         9\n",
       "14.99         4\n",
       "12.99         3\n",
       "16.99         2\n",
       "29.99         2\n",
       "139.99        1\n",
       "99.99         1\n",
       "37.99         1\n",
       "36.99         1\n",
       "18.99         1\n",
       "59.99         1\n",
       "Name: Price, dtype: int64"
      ]
     },
     "execution_count": 50,
     "metadata": {},
     "output_type": "execute_result"
    }
   ],
   "source": [
    "# Before we remove, we should look at how many observations we would remove\n",
    "\n",
    "apps[\"Price\"].value_counts()\n",
    "\n",
    "# for some reason, there are 30 apps priced at 180 dollars... this is quite interesting and "
   ]
  },
  {
   "cell_type": "markdown",
   "id": "00c12a4e",
   "metadata": {},
   "source": [
    "for some reason, there are 30 apps priced at 180 dollars... this is quite interesting and perhaps another question we can answer. For right now, let's limit our analyses to apps under 15 dollars."
   ]
  },
  {
   "cell_type": "code",
   "execution_count": 54,
   "id": "331a728c",
   "metadata": {},
   "outputs": [
    {
     "data": {
      "text/plain": [
       "0.9971147618206442"
      ]
     },
     "execution_count": 54,
     "metadata": {},
     "output_type": "execute_result"
    }
   ],
   "source": [
    "apps_under_ten = apps[apps.Price < 15.00]\n",
    "\n",
    "len(apps_under_ten)/len(apps)\n",
    "#removed a very small portion of observations"
   ]
  },
  {
   "cell_type": "code",
   "execution_count": 56,
   "id": "4de299b7",
   "metadata": {},
   "outputs": [
    {
     "data": {
      "text/plain": [
       "<matplotlib.collections.PathCollection at 0x7fad68752340>"
      ]
     },
     "execution_count": 56,
     "metadata": {},
     "output_type": "execute_result"
    },
    {
     "data": {
      "image/png": "[encoded data removed]",
      "text/plain": [
       "<Figure size 432x288 with 1 Axes>"
      ]
     },
     "metadata": {
      "needs_background": "light"
     },
     "output_type": "display_data"
    }
   ],
   "source": [
    "#let's try that scatterplot again\n",
    "\n",
    "plt.scatter(apps_under_ten[\"ave_rating\"], apps_under_ten[\"Price\"])"
   ]
  }
 ],
 "metadata": {
  "kernelspec": {
   "display_name": "Python 3 (ipykernel)",
   "language": "python",
   "name": "python3"
  },
  "language_info": {
   "codemirror_mode": {
    "name": "ipython",
    "version": 3
   },
   "file_extension": ".py",
   "mimetype": "text/x-python",
   "name": "python",
   "nbconvert_exporter": "python",
   "pygments_lexer": "ipython3",
   "version": "3.9.7"
  }
 },
 "nbformat": 4,
 "nbformat_minor": 5
}
